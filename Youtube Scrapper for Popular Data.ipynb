{
 "cells": [
  {
   "cell_type": "code",
   "execution_count": 1,
   "metadata": {},
   "outputs": [],
   "source": [
    "from selenium import webdriver \n",
    "from selenium.webdriver.common.keys import Keys\n",
    "from selenium.webdriver.common.by import By\n",
    "\n",
    "#chrome web  browser drive\n",
    "from webdriver_manager.chrome import ChromeDriverManager\n",
    "\n",
    "import time\n",
    "\n",
    "#for parsing html\n",
    "from bs4 import BeautifulSoup "
   ]
  },
  {
   "cell_type": "code",
   "execution_count": 2,
   "metadata": {},
   "outputs": [
    {
     "name": "stderr",
     "output_type": "stream",
     "text": [
      "\n",
      "\n",
      "====== WebDriver manager ======\n",
      "Current google-chrome version is 99.0.4844\n",
      "Get LATEST chromedriver version for 99.0.4844 google-chrome\n",
      "Trying to download new driver from https://chromedriver.storage.googleapis.com/99.0.4844.51/chromedriver_win32.zip\n",
      "Driver has been saved in cache [C:\\Users\\Oshin\\.wdm\\drivers\\chromedriver\\win32\\99.0.4844.51]\n",
      "C:\\Users\\Oshin\\AppData\\Local\\Temp\\ipykernel_2060\\3397543668.py:2: DeprecationWarning: executable_path has been deprecated, please pass in a Service object\n",
      "  driver = webdriver.Chrome(ChromeDriverManager().install())\n"
     ]
    }
   ],
   "source": [
    "#driver to generate chrome window\n",
    "driver = webdriver.Chrome(ChromeDriverManager().install())"
   ]
  },
  {
   "cell_type": "code",
   "execution_count": 3,
   "metadata": {},
   "outputs": [],
   "source": [
    " #driver need to be running to see this page\n",
    "driver.get('https://www.youtube.com/c/nikkietutorials/videos')"
   ]
  },
  {
   "cell_type": "code",
   "execution_count": 4,
   "metadata": {},
   "outputs": [],
   "source": [
    "#scroll by to go to next page\n",
    "driver.find_element(By.TAG_NAME,'body').send_keys(Keys.END)"
   ]
  },
  {
   "cell_type": "code",
   "execution_count": 5,
   "metadata": {},
   "outputs": [],
   "source": [
    "#to scroll to the end\n",
    "for _ in range(30):\n",
    "    #scroll by to go to next page\n",
    "    driver.find_element(by=By.TAG_NAME, value='body').send_keys(Keys.END)\n",
    "    "
   ]
  },
  {
   "cell_type": "code",
   "execution_count": 6,
   "metadata": {},
   "outputs": [],
   "source": [
    "#get the html\n",
    "html = driver.page_source"
   ]
  },
  {
   "cell_type": "code",
   "execution_count": 7,
   "metadata": {},
   "outputs": [],
   "source": [
    "#parse  the html in beautiful soup\n",
    "soup = BeautifulSoup(html, 'html.parser')"
   ]
  },
  {
   "cell_type": "code",
   "execution_count": 8,
   "metadata": {},
   "outputs": [],
   "source": [
    "#get the videos thumbnail boxes\n",
    "videos = soup.find_all('div',{'id':\"dismissible\"})"
   ]
  },
  {
   "cell_type": "code",
   "execution_count": 9,
   "metadata": {},
   "outputs": [
    {
     "data": {
      "text/plain": [
       "846"
      ]
     },
     "execution_count": 9,
     "metadata": {},
     "output_type": "execute_result"
    }
   ],
   "source": [
    "master_list =[]\n",
    "#extracting tiitle, age, views and make it a dictionary\n",
    "for video in videos:\n",
    "    data_dict ={}\n",
    "    try:\n",
    "        data_dict['title'] = video.find('a',{'id':\"video-title\"}).text\n",
    "        data_dict['video_url'] = \"https://www.youtube.com\"+video.find('a',{'id':\"video-title\"})['href']\n",
    "        metadata = video.find('div', {'id':\"metadata-line\"}).find_all('span')\n",
    "        if(len(metadata) >1):\n",
    "            data_dict['views_compact'] = metadata[0].text\n",
    "            data_dict['video_age'] = metadata[1].text\n",
    "        else:\n",
    "            data_dict['video_age'] = metadata[0].text\n",
    "\n",
    "        master_list.append(data_dict)\n",
    "        #print(master_list)\n",
    "        #break\n",
    "    except Exception as e:\n",
    "        print(data_dict)\n",
    "        print(e)\n",
    "\n",
    "len(master_list)"
   ]
  },
  {
   "cell_type": "code",
   "execution_count": 10,
   "metadata": {},
   "outputs": [],
   "source": [
    "#make the list a pandas data frame\n",
    "import pandas as pd"
   ]
  },
  {
   "cell_type": "code",
   "execution_count": 11,
   "metadata": {},
   "outputs": [
    {
     "data": {
      "text/html": [
       "<div>\n",
       "<style scoped>\n",
       "    .dataframe tbody tr th:only-of-type {\n",
       "        vertical-align: middle;\n",
       "    }\n",
       "\n",
       "    .dataframe tbody tr th {\n",
       "        vertical-align: top;\n",
       "    }\n",
       "\n",
       "    .dataframe thead th {\n",
       "        text-align: right;\n",
       "    }\n",
       "</style>\n",
       "<table border=\"1\" class=\"dataframe\">\n",
       "  <thead>\n",
       "    <tr style=\"text-align: right;\">\n",
       "      <th></th>\n",
       "      <th>title</th>\n",
       "      <th>video_url</th>\n",
       "      <th>views_compact</th>\n",
       "      <th>video_age</th>\n",
       "    </tr>\n",
       "  </thead>\n",
       "  <tbody>\n",
       "    <tr>\n",
       "      <th>0</th>\n",
       "      <td>1920's.. what would you ACTUALLY look like?! |...</td>\n",
       "      <td>https://www.youtube.com/watch?v=qFVaNwsaFl0</td>\n",
       "      <td>76K views</td>\n",
       "      <td>3 hours ago</td>\n",
       "    </tr>\n",
       "    <tr>\n",
       "      <th>1</th>\n",
       "      <td>Random Color Generator Makeup Challenge! | Nik...</td>\n",
       "      <td>https://www.youtube.com/watch?v=U6mZCPDZQ-Y</td>\n",
       "      <td>562K views</td>\n",
       "      <td>3 weeks ago</td>\n",
       "    </tr>\n",
       "    <tr>\n",
       "      <th>2</th>\n",
       "      <td>Finally Answering Questions I've Been Avoiding...</td>\n",
       "      <td>https://www.youtube.com/watch?v=ysF1OH5tieM</td>\n",
       "      <td>796K views</td>\n",
       "      <td>1 month ago</td>\n",
       "    </tr>\n",
       "    <tr>\n",
       "      <th>3</th>\n",
       "      <td>TOP VIRAL Makeup Trends You NEED To Try In 202...</td>\n",
       "      <td>https://www.youtube.com/watch?v=KXSt1VN0QY8</td>\n",
       "      <td>755K views</td>\n",
       "      <td>1 month ago</td>\n",
       "    </tr>\n",
       "    <tr>\n",
       "      <th>4</th>\n",
       "      <td>My Final Video... | NikkieTutorials</td>\n",
       "      <td>https://www.youtube.com/watch?v=l8ato4vmbww</td>\n",
       "      <td>1.2M views</td>\n",
       "      <td>2 months ago</td>\n",
       "    </tr>\n",
       "    <tr>\n",
       "      <th>...</th>\n",
       "      <td>...</td>\n",
       "      <td>...</td>\n",
       "      <td>...</td>\n",
       "      <td>...</td>\n",
       "    </tr>\n",
       "    <tr>\n",
       "      <th>841</th>\n",
       "      <td>Makeup Tutorial; Dramatic black &amp; white Look.</td>\n",
       "      <td>https://www.youtube.com/watch?v=Dc_GATsPK6A</td>\n",
       "      <td>265K views</td>\n",
       "      <td>13 years ago</td>\n",
       "    </tr>\n",
       "    <tr>\n",
       "      <th>842</th>\n",
       "      <td>NikkieTutorials |; Arabic Golden Yellow Look.</td>\n",
       "      <td>https://www.youtube.com/watch?v=FqsIKC_BADQ</td>\n",
       "      <td>298K views</td>\n",
       "      <td>13 years ago</td>\n",
       "    </tr>\n",
       "    <tr>\n",
       "      <th>843</th>\n",
       "      <td>Makeup Tutorial; Neutral Green Gold Look.</td>\n",
       "      <td>https://www.youtube.com/watch?v=1WP1vrrY4-M</td>\n",
       "      <td>384K views</td>\n",
       "      <td>13 years ago</td>\n",
       "    </tr>\n",
       "    <tr>\n",
       "      <th>844</th>\n",
       "      <td>Makeup Tutorial: Neutral Look</td>\n",
       "      <td>https://www.youtube.com/watch?v=MqxKX-NlCaU</td>\n",
       "      <td>1.3M views</td>\n",
       "      <td>13 years ago</td>\n",
       "    </tr>\n",
       "    <tr>\n",
       "      <th>845</th>\n",
       "      <td>Makeup Tutorial; My first official Look for YT.</td>\n",
       "      <td>https://www.youtube.com/watch?v=b6ogMySncbY</td>\n",
       "      <td>4.3M views</td>\n",
       "      <td>13 years ago</td>\n",
       "    </tr>\n",
       "  </tbody>\n",
       "</table>\n",
       "<p>846 rows × 4 columns</p>\n",
       "</div>"
      ],
      "text/plain": [
       "                                                 title  \\\n",
       "0    1920's.. what would you ACTUALLY look like?! |...   \n",
       "1    Random Color Generator Makeup Challenge! | Nik...   \n",
       "2    Finally Answering Questions I've Been Avoiding...   \n",
       "3    TOP VIRAL Makeup Trends You NEED To Try In 202...   \n",
       "4                  My Final Video... | NikkieTutorials   \n",
       "..                                                 ...   \n",
       "841      Makeup Tutorial; Dramatic black & white Look.   \n",
       "842      NikkieTutorials |; Arabic Golden Yellow Look.   \n",
       "843          Makeup Tutorial; Neutral Green Gold Look.   \n",
       "844                      Makeup Tutorial: Neutral Look   \n",
       "845    Makeup Tutorial; My first official Look for YT.   \n",
       "\n",
       "                                       video_url views_compact     video_age  \n",
       "0    https://www.youtube.com/watch?v=qFVaNwsaFl0     76K views   3 hours ago  \n",
       "1    https://www.youtube.com/watch?v=U6mZCPDZQ-Y    562K views   3 weeks ago  \n",
       "2    https://www.youtube.com/watch?v=ysF1OH5tieM    796K views   1 month ago  \n",
       "3    https://www.youtube.com/watch?v=KXSt1VN0QY8    755K views   1 month ago  \n",
       "4    https://www.youtube.com/watch?v=l8ato4vmbww    1.2M views  2 months ago  \n",
       "..                                           ...           ...           ...  \n",
       "841  https://www.youtube.com/watch?v=Dc_GATsPK6A    265K views  13 years ago  \n",
       "842  https://www.youtube.com/watch?v=FqsIKC_BADQ    298K views  13 years ago  \n",
       "843  https://www.youtube.com/watch?v=1WP1vrrY4-M    384K views  13 years ago  \n",
       "844  https://www.youtube.com/watch?v=MqxKX-NlCaU    1.3M views  13 years ago  \n",
       "845  https://www.youtube.com/watch?v=b6ogMySncbY    4.3M views  13 years ago  \n",
       "\n",
       "[846 rows x 4 columns]"
      ]
     },
     "execution_count": 11,
     "metadata": {},
     "output_type": "execute_result"
    }
   ],
   "source": [
    "youtube_df = pd.DataFrame(master_list)\n",
    "youtube_df"
   ]
  },
  {
   "cell_type": "code",
   "execution_count": 12,
   "metadata": {},
   "outputs": [],
   "source": [
    "#save to files\n",
    "\n",
    "#csv\n",
    "youtube_df.to_csv('sample_youtube_data.csv',index=False)\n",
    "\n",
    "#xlsx\n",
    "youtube_df.to_excel('sample_youtube_data.xlsx')\n",
    "\n",
    "#sql\n",
    "#https://datatofish.com/pandas-dataframe-to-sql/\n",
    "#youtube_df.to_sql"
   ]
  },
  {
   "cell_type": "code",
   "execution_count": null,
   "metadata": {},
   "outputs": [],
   "source": []
  },
  {
   "cell_type": "code",
   "execution_count": null,
   "metadata": {},
   "outputs": [],
   "source": []
  },
  {
   "cell_type": "code",
   "execution_count": null,
   "metadata": {},
   "outputs": [],
   "source": []
  },
  {
   "cell_type": "code",
   "execution_count": null,
   "metadata": {},
   "outputs": [],
   "source": []
  },
  {
   "cell_type": "code",
   "execution_count": null,
   "metadata": {},
   "outputs": [],
   "source": []
  },
  {
   "cell_type": "code",
   "execution_count": null,
   "metadata": {},
   "outputs": [],
   "source": []
  },
  {
   "cell_type": "code",
   "execution_count": null,
   "metadata": {},
   "outputs": [],
   "source": []
  },
  {
   "cell_type": "code",
   "execution_count": null,
   "metadata": {},
   "outputs": [],
   "source": []
  }
 ],
 "metadata": {
  "interpreter": {
   "hash": "63fd5069d213b44bf678585dea6b12cceca9941eaf7f819626cde1f2670de90d"
  },
  "kernelspec": {
   "display_name": "YSenv",
   "language": "python",
   "name": "ysenv"
  },
  "language_info": {
   "codemirror_mode": {
    "name": "ipython",
    "version": 3
   },
   "file_extension": ".py",
   "mimetype": "text/x-python",
   "name": "python",
   "nbconvert_exporter": "python",
   "pygments_lexer": "ipython3",
   "version": "3.9.0"
  },
  "orig_nbformat": 4
 },
 "nbformat": 4,
 "nbformat_minor": 2
}
